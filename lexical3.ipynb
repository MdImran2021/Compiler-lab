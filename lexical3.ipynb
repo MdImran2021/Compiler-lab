{
  "nbformat": 4,
  "nbformat_minor": 0,
  "metadata": {
    "colab": {
      "name": "lexical3.ipynb",
      "provenance": [],
      "authorship_tag": "ABX9TyMBmx8GFcIIq6wvLeTRmakG",
      "include_colab_link": true
    },
    "kernelspec": {
      "name": "python3",
      "display_name": "Python 3"
    },
    "language_info": {
      "name": "python"
    }
  },
  "cells": [
    {
      "cell_type": "markdown",
      "metadata": {
        "id": "view-in-github",
        "colab_type": "text"
      },
      "source": [
        "<a href=\"https://colab.research.google.com/github/MdImran2021/Compiler-lab/blob/main/lexical3.ipynb\" target=\"_parent\"><img src=\"https://colab.research.google.com/assets/colab-badge.svg\" alt=\"Open In Colab\"/></a>"
      ]
    },
    {
      "cell_type": "code",
      "metadata": {
        "id": "vaRxGNXSxvgm"
      },
      "source": [
        "import re"
      ],
      "execution_count": 1,
      "outputs": []
    },
    {
      "cell_type": "code",
      "metadata": {
        "id": "v112AaKKxx0W"
      },
      "source": [
        "f = open('Input.c','r')"
      ],
      "execution_count": 2,
      "outputs": []
    },
    {
      "cell_type": "code",
      "metadata": {
        "id": "9AjUyJ2Hx-dd"
      },
      "source": [
        "token_length = 0\n",
        "operators = { '=': 'Assignment Operator','+': 'Additon Operator', '-' : 'Substraction Operator', '/' : 'Division Operator', '*': 'Multiplication Operator', '++' : 'increment Operator', '--' : 'Decrement Operator'}\n",
        "optr_keys = operators.keys()\n",
        "\n",
        "comments = {r'//' : 'Single Line Comment',r'/*' : 'Multiline Comment Start', r'*/' : 'Multiline Comment End', '/**/' : 'Empty Multiline comment'}\n",
        "comment_keys = comments.keys()\n",
        "\n",
        "header = {'.h': 'header file'}\n",
        "header_keys = header.keys()\n",
        "\n",
        "sp_header_files = {'<stdio.h>':'Standard Input Output Header \\n Language C','<string.h>':'String Manipulation Library \\n Language C','<iostream.h>':'standard input-output stream \\n Language C++','java.io.*':'Language java'}\n",
        "\n",
        "macros = {r'#\\w+' : 'macro'}\n",
        "macros_keys = macros.keys()\n",
        "\n",
        "datatype = {'int': 'Integer','float' : 'Floating Point', 'char': 'Character','long': 'long int'}\n",
        "datatype_keys = datatype.keys()\n",
        "\n",
        "keyword = {'return' : 'keyword that returns a value from a block \\n language C','native': 'Java', 'def' : 'Python'}\n",
        "keyword_keys = keyword.keys()\n",
        "\n",
        "delimiter = {';':'terminator symbol semicolon (;)'}\n",
        "delimiter_keys = delimiter.keys()\n",
        "\n",
        "blocks = {'{' : 'Blocked Statement Body Open', '}':'Blocked Statement Body Closed'}\n",
        "block_keys = blocks.keys()\n",
        "\n",
        "builtin_functions = {'printf':'printf prints its argument on the console'}\n",
        "builtin_functions_keys = builtin_functions.keys()\n",
        "\n",
        "non_identifiers = ['_','-','+','/','*','`','~','!','@','#','$','%','^','&','*','(',')','=','|','\"',':',';','{'\n",
        ",'}','[',']','<','>','?','/']\n",
        "\n",
        "numerals = ['0','1','2','3','4','5','6','7','8','9','10']\n",
        "\n",
        "# Flags\n",
        "dataFlag = False\n",
        "\n",
        "\n",
        "i = f.read()\n",
        "\n",
        "count = 0\n",
        "program =  i.split('\\n')"
      ],
      "execution_count": 3,
      "outputs": []
    },
    {
      "cell_type": "code",
      "metadata": {
        "colab": {
          "base_uri": "https://localhost:8080/"
        },
        "id": "ff-wTuIbyCYE",
        "outputId": "238f785b-e59a-4825-a92f-830e3d1571ab"
      },
      "source": [
        "\n",
        "\n",
        "for line in program:\n",
        "    count = count+1\n",
        "    print(\"Line #\",count,\"\\n\",line) \n",
        "    \n",
        "     \n",
        "    tokens = line.split(' ')\n",
        "    print(\"Tokens are\",tokens) \n",
        "    print(\"Line #\",count,'properties \\n')\n",
        "    for token in tokens:\n",
        "        \n",
        "        if '\\r' in token:\n",
        "            position = token.find('\\r')\n",
        "            token=token[:position]\n",
        "        # print 1\n",
        "        \n",
        "        if token in block_keys:\n",
        "            print(blocks[token]) \n",
        "        if token in optr_keys:\n",
        "            print(\"Operator is: \", operators[token])\n",
        "        if token in comment_keys:\n",
        "            print(\"Comment Type: \", comments[token])\n",
        "        if token in macros_keys:\n",
        "            print(\"Macro is: \", macros[token])\n",
        "        if token in builtin_functions_keys:\n",
        "            print(\"Built in function is: \", builtin_functions[token])\n",
        "        if '.h' in token:\n",
        "            print(\"Header File is: \",token, sp_header_files[token])\n",
        "        if '()' in token:\n",
        "            print(\"Function named\", token)\n",
        "        \n",
        "        if dataFlag == True and (token not in non_identifiers) and ('()' not in token):\n",
        "            print(\"Identifier: \",token)\n",
        "        if token in datatype_keys:\n",
        "            print(\"type is: \", datatype[token])\n",
        "            dataFlag = True\n",
        "        \n",
        "        if token in keyword_keys:\n",
        "            print(keyword[token])\n",
        "            \n",
        "        if token in delimiter:\n",
        "            print(\"Delimiter\" , delimiter[token])\n",
        "        if '#' in token:\n",
        "            match = re.search(r'#\\w+', token)\n",
        "            print(\"Header\", match.group())\n",
        "        elif 'import' in token:\n",
        "            match = re.search(r'import\\w+', token)\n",
        "            print(\"Header\", token)\n",
        "            print('Language: Java')\n",
        "        if token in numerals:\n",
        "            print( token,type(int(token)))\n",
        "            \n",
        "    dataFlag = False   \n",
        "    \n",
        "    token_length += len(token)\n",
        "    \n",
        "    print(\"________________________\")\n",
        "    \n",
        "\n",
        "f.close()\n",
        "print(\"Token count: \",count)\n",
        "print(\"Token length: \",token_length)"
      ],
      "execution_count": 4,
      "outputs": [
        {
          "output_type": "stream",
          "name": "stdout",
          "text": [
            "Line # 1 \n",
            " #include <stdio.h>\n",
            "Tokens are ['#include', '<stdio.h>']\n",
            "Line # 1 properties \n",
            "\n",
            "Header #include\n",
            "Header File is:  <stdio.h> Standard Input Output Header \n",
            " Language C\n",
            "________________________\n",
            "Line # 2 \n",
            " int main() /* function */\n",
            "Tokens are ['int', 'main()', '/*', 'function', '*/']\n",
            "Line # 2 properties \n",
            "\n",
            "type is:  Integer\n",
            "Function named main()\n",
            "Comment Type:  Multiline Comment Start\n",
            "Identifier:  /*\n",
            "Identifier:  function\n",
            "Comment Type:  Multiline Comment End\n",
            "Identifier:  */\n",
            "________________________\n",
            "Line # 3 \n",
            " {\n",
            "Tokens are ['{']\n",
            "Line # 3 properties \n",
            "\n",
            "Blocked Statement Body Open\n",
            "________________________\n",
            "Line # 4 \n",
            "   int a;\n",
            "Tokens are ['', '', 'int', 'a;']\n",
            "Line # 4 properties \n",
            "\n",
            "type is:  Integer\n",
            "Identifier:  a;\n",
            "________________________\n",
            "Line # 5 \n",
            "   a = 10;\n",
            "Tokens are ['', '', 'a', '=', '10;']\n",
            "Line # 5 properties \n",
            "\n",
            "Operator is:  Assignment Operator\n",
            "________________________\n",
            "Line # 6 \n",
            "   printf(\"The value of a is %d \",a);\n",
            "Tokens are ['', '', 'printf(\"The', 'value', 'of', 'a', 'is', '%d', '\",a);']\n",
            "Line # 6 properties \n",
            "\n",
            "________________________\n",
            "Line # 7 \n",
            "   return 0;\n",
            "Tokens are ['', '', 'return', '0;']\n",
            "Line # 7 properties \n",
            "\n",
            "keyword that returns a value from a block \n",
            " language C\n",
            "________________________\n",
            "Line # 8 \n",
            " }\n",
            "Tokens are ['}']\n",
            "Line # 8 properties \n",
            "\n",
            "Blocked Statement Body Closed\n",
            "________________________\n",
            "Token count:  8\n",
            "Token length:  25\n"
          ]
        }
      ]
    },
    {
      "cell_type": "code",
      "metadata": {
        "id": "IQVj4uR1yET9"
      },
      "source": [
        ""
      ],
      "execution_count": null,
      "outputs": []
    }
  ]
}