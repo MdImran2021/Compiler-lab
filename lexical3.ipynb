{
  "nbformat": 4,
  "nbformat_minor": 0,
  "metadata": {
    "colab": {
      "name": "lexical3.ipynb",
      "provenance": [],
      "authorship_tag": "ABX9TyPW3OJmFu+Qn0WcIxcHbtI1",
      "include_colab_link": true
    },
    "kernelspec": {
      "name": "python3",
      "display_name": "Python 3"
    },
    "language_info": {
      "name": "python"
    }
  },
  "cells": [
    {
      "cell_type": "markdown",
      "metadata": {
        "id": "view-in-github",
        "colab_type": "text"
      },
      "source": [
        "<a href=\"https://colab.research.google.com/github/MdImran2021/Compiler-lab/blob/main/lexical3.ipynb\" target=\"_parent\"><img src=\"https://colab.research.google.com/assets/colab-badge.svg\" alt=\"Open In Colab\"/></a>"
      ]
    },
    {
      "cell_type": "code",
      "metadata": {
        "id": "vaRxGNXSxvgm"
      },
      "source": [
        "import re"
      ],
      "execution_count": 42,
      "outputs": []
    },
    {
      "cell_type": "code",
      "metadata": {
        "id": "v112AaKKxx0W"
      },
      "source": [
        "f = open('InputProg.c','r')"
      ],
      "execution_count": 43,
      "outputs": []
    },
    {
      "cell_type": "code",
      "metadata": {
        "id": "9AjUyJ2Hx-dd"
      },
      "source": [
        "\n",
        "operators = { '=': 'Assignment Operator','+': 'Additon Operator', '-' : 'Substraction Operator', '/' : 'Division Operator', '*': 'Multiplication Operator', '++' : 'increment Operator', '--' : 'Decrement Operator'}\n",
        "optr_keys = operators.keys()\n",
        "\n",
        "comments = {r'//' : 'Single Line Comment',r'/*' : 'Multiline Comment Start', r'*/' : 'Multiline Comment End', '/**/' : 'Empty Multiline comment'}\n",
        "comment_keys = comments.keys()\n",
        "\n",
        "header = {'.h': 'header file'}\n",
        "header_keys = header.keys()\n",
        "\n",
        "sp_header_files = {'<stdio.h>':'Standard Input Output Header','<string.h>':'String Manipulation Library'}\n",
        "\n",
        "macros = {r'#\\w+' : 'macro'}\n",
        "macros_keys = macros.keys()\n",
        "\n",
        "datatype = {'int': 'Integer','float' : 'Floating Point', 'char': 'Character','long': 'long int'}\n",
        "datatype_keys = datatype.keys()\n",
        "\n",
        "keyword = {'return' : 'keyword that returns a value from a block'}\n",
        "keyword_keys = keyword.keys()\n",
        "\n",
        "delimiter = {';':'terminator symbol semicolon (;)'}\n",
        "delimiter_keys = delimiter.keys()\n",
        "\n",
        "blocks = {'{' : 'Blocked Statement Body Open', '}':'Blocked Statement Body Closed'}\n",
        "block_keys = blocks.keys()\n",
        "\n",
        "builtin_functions = {'printf':'printf prints its argument on the console'}\n",
        "\n",
        "non_identifiers = ['_','-','+','/','*','`','~','!','@','#','$','%','^','&','*','(',')','=','|','\"',':',';','{'\n",
        ",'}','[',']','<','>','?','/']\n",
        "\n",
        "numerals = ['0','1','2','3','4','5','6','7','8','9','10']\n",
        "\n",
        "# Flags\n",
        "dataFlag = False\n",
        "\n",
        "\n",
        "i = f.read()\n",
        "\n",
        "count = 0\n",
        "program =  i.split('\\n')"
      ],
      "execution_count": 44,
      "outputs": []
    },
    {
      "cell_type": "code",
      "metadata": {
        "colab": {
          "base_uri": "https://localhost:8080/"
        },
        "id": "ff-wTuIbyCYE",
        "outputId": "4735b049-6a5f-49cc-d1c7-1d765431e78f"
      },
      "source": [
        "\n",
        "\n",
        "for line in program:\n",
        "    count = count+1\n",
        "    print(\"Line #\",count,\"\\n\",line) \n",
        "    \n",
        "     \n",
        "    tokens = line.split(' ')\n",
        "    print(\"Tokens are\",tokens) \n",
        "    print(\"Line #\",count,'properties \\n')\n",
        "    for token in tokens:\n",
        "        \n",
        "        if '\\r' in token:\n",
        "            position = token.find('\\r')\n",
        "            token=token[:position]\n",
        "        # print 1\n",
        "        \n",
        "        if token in block_keys:\n",
        "            print(blocks[token]) \n",
        "        if token in optr_keys:\n",
        "            print(\"Operator is: \", operators[token])\n",
        "        if token in comment_keys:\n",
        "            print(\"Comment Type: \", comments[token])\n",
        "        if token in macros_keys:\n",
        "            print(\"Macro is: \", macros[token])\n",
        "        if '.h' in token:\n",
        "            print(\"Header File is: \",token, sp_header_files[token])\n",
        "        if '()' in token:\n",
        "            print(\"Function named\", token)\n",
        "        \n",
        "        if dataFlag == True and (token not in non_identifiers) and ('()' not in token):\n",
        "            print(\"Identifier: \",token)\n",
        "        if token in datatype_keys:\n",
        "            print(\"type is: \", datatype[token])\n",
        "            dataFlag = True\n",
        "        \n",
        "        if token in keyword_keys:\n",
        "            print(keyword[token])\n",
        "            \n",
        "        if token in delimiter:\n",
        "            print(\"Delimiter\" , delimiter[token])\n",
        "        if '#' in token:\n",
        "            match = re.search(r'#\\w+', token)\n",
        "            print(\"Header\", match.group())\n",
        "        if token in numerals:\n",
        "            print( token,type(int(token)))\n",
        "            \n",
        "    dataFlag = False   \n",
        "            \n",
        "    \n",
        "    print(\"________________________\")\n",
        "    \n",
        "\n",
        "f.close()"
      ],
      "execution_count": 45,
      "outputs": [
        {
          "output_type": "stream",
          "name": "stdout",
          "text": [
            "Line # 1 \n",
            " #include <stdio.h>\n",
            "Tokens are ['#include', '<stdio.h>']\n",
            "Line # 1 properties \n",
            "\n",
            "Header #include\n",
            "Header File is:  <stdio.h> Standard Input Output Header\n",
            "________________________\n",
            "Line # 2 \n",
            " int main() /* function */\n",
            "Tokens are ['int', 'main()', '/*', 'function', '*/']\n",
            "Line # 2 properties \n",
            "\n",
            "type is:  Integer\n",
            "Function named main()\n",
            "Comment Type:  Multiline Comment Start\n",
            "Identifier:  /*\n",
            "Identifier:  function\n",
            "Comment Type:  Multiline Comment End\n",
            "Identifier:  */\n",
            "________________________\n",
            "Line # 3 \n",
            " {\n",
            "Tokens are ['{']\n",
            "Line # 3 properties \n",
            "\n",
            "Blocked Statement Body Open\n",
            "________________________\n",
            "Line # 4 \n",
            "     int a;\n",
            "Tokens are ['', '', '', '', 'int', 'a;']\n",
            "Line # 4 properties \n",
            "\n",
            "type is:  Integer\n",
            "Identifier:  a;\n",
            "________________________\n",
            "Line # 5 \n",
            "     a = 10;\n",
            "Tokens are ['', '', '', '', 'a', '=', '10;']\n",
            "Line # 5 properties \n",
            "\n",
            "Operator is:  Assignment Operator\n",
            "________________________\n",
            "Line # 6 \n",
            "     printf(\"The value of a is %d \",a);\n",
            "Tokens are ['', '', '', '', 'printf(\"The', 'value', 'of', 'a', 'is', '%d', '\",a);']\n",
            "Line # 6 properties \n",
            "\n",
            "________________________\n",
            "Line # 7 \n",
            "     return 0;\n",
            "Tokens are ['', '', '', '', 'return', '0;']\n",
            "Line # 7 properties \n",
            "\n",
            "keyword that returns a value from a block\n",
            "________________________\n",
            "Line # 8 \n",
            " }\n",
            "Tokens are ['}']\n",
            "Line # 8 properties \n",
            "\n",
            "Blocked Statement Body Closed\n",
            "________________________\n"
          ]
        }
      ]
    },
    {
      "cell_type": "code",
      "metadata": {
        "id": "IQVj4uR1yET9"
      },
      "source": [
        ""
      ],
      "execution_count": null,
      "outputs": []
    }
  ]
}