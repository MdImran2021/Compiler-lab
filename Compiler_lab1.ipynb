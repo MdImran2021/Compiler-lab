{
  "nbformat": 4,
  "nbformat_minor": 0,
  "metadata": {
    "colab": {
      "name": "Compiler lab1.ipynb",
      "provenance": [],
      "collapsed_sections": [],
      "authorship_tag": "ABX9TyNeQ5DBnynbEC4JsjdGXwvf",
      "include_colab_link": true
    },
    "kernelspec": {
      "name": "python3",
      "display_name": "Python 3"
    },
    "language_info": {
      "name": "python"
    }
  },
  "cells": [
    {
      "cell_type": "markdown",
      "metadata": {
        "id": "view-in-github",
        "colab_type": "text"
      },
      "source": [
        "<a href=\"https://colab.research.google.com/github/MdImran2021/Compiler-lab/blob/main/Compiler_lab1.ipynb\" target=\"_parent\"><img src=\"https://colab.research.google.com/assets/colab-badge.svg\" alt=\"Open In Colab\"/></a>"
      ]
    },
    {
      "cell_type": "code",
      "metadata": {
        "id": "W16GBOOHZfZF"
      },
      "source": [
        "import re"
      ],
      "execution_count": 11,
      "outputs": []
    },
    {
      "cell_type": "code",
      "metadata": {
        "colab": {
          "base_uri": "https://localhost:8080/"
        },
        "id": "9ys7OESxZsOk",
        "outputId": "be9786fd-6a2e-460e-b798-647306f710d0"
      },
      "source": [
        "li=[]\n",
        "value = input(\"Enter your value: \")\n",
        "message = value\n",
        "print('VALUE ENTERED:\\n',value)"
      ],
      "execution_count": 10,
      "outputs": [
        {
          "output_type": "stream",
          "name": "stdout",
          "text": [
            "Enter your value: int a = 11;\n",
            "VALUE ENTERED:\n",
            " int a = 11;\n"
          ]
        }
      ]
    },
    {
      "cell_type": "code",
      "metadata": {
        "id": "3kI0y1pKZuG4"
      },
      "source": [
        "datatypes=['int','float','complex','list','tuple','range','dict','set',\n",
        " 'frozenset','bool','bytes','bytearray','memoryview','str']\n",
        "operators=['+','-','*','/','//','%','**','=','>','<',\"==\",\"!=\",\">=\",\"<=\"]\n",
        "endstatement=[';']\n",
        "integer=[0,1,2,3,4,5,6,7,8,9]"
      ],
      "execution_count": 12,
      "outputs": []
    },
    {
      "cell_type": "code",
      "metadata": {
        "colab": {
          "base_uri": "https://localhost:8080/"
        },
        "id": "PP8XZatgZ2Zr",
        "outputId": "852eb440-fb8d-4c2a-9042-e58c4df2ccc3"
      },
      "source": [
        "for word in message:\n",
        " if word.lower() in datatypes:\n",
        "  li.append(['DATATYPE', word])\n",
        " elif word.lower() in operators:\n",
        "  li.append(['OPERATOR', word])\n",
        " elif word.lower() in endstatement:\n",
        "  li.append(['ENDSTATEMENT', word])\n",
        " elif word.lower() in integer:\n",
        "  li.append(['INTEGER', word])\n",
        " elif re.match(\"[a-z]\", word.lower()):\n",
        "  li.append(['Character', word])\n",
        "print(li)"
      ],
      "execution_count": 15,
      "outputs": [
        {
          "output_type": "stream",
          "name": "stdout",
          "text": [
            "[['Character', 'i'], ['Character', 'n'], ['Character', 't'], ['Character', ' '], ['Character', 'a'], ['Character', ' '], ['OPERATOR', '='], ['Character', ' '], ['Character', '1'], ['Character', '1'], ['ENDSTATEMENT', ';'], ['Character', 'i'], ['Character', 'n'], ['Character', 't'], ['Integer', ' '], ['Character', 'a'], ['Integer', ' '], ['OPERATOR', '='], ['Integer', ' '], ['Integer', '1'], ['Integer', '1'], ['ENDSTATEMENT', ';'], ['Character', 'i'], ['Character', 'n'], ['Character', 't'], ['Character', 'a'], ['OPERATOR', '='], ['ENDSTATEMENT', ';']]\n"
          ]
        }
      ]
    },
    {
      "cell_type": "code",
      "metadata": {
        "id": "RUPofcJWZ5E9"
      },
      "source": [
        ""
      ],
      "execution_count": null,
      "outputs": []
    }
  ]
}