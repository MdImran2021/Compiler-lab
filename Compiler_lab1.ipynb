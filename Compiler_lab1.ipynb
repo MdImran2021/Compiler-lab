{
  "nbformat": 4,
  "nbformat_minor": 0,
  "metadata": {
    "colab": {
      "name": "Compiler lab1.ipynb",
      "provenance": [],
      "collapsed_sections": [],
      "authorship_tag": "ABX9TyMNptmnWlZ8afoisNoiMMUj",
      "include_colab_link": true
    },
    "kernelspec": {
      "name": "python3",
      "display_name": "Python 3"
    },
    "language_info": {
      "name": "python"
    }
  },
  "cells": [
    {
      "cell_type": "markdown",
      "metadata": {
        "id": "view-in-github",
        "colab_type": "text"
      },
      "source": [
        "<a href=\"https://colab.research.google.com/github/MdImran2021/Compiler-lab/blob/main/Compiler_lab1.ipynb\" target=\"_parent\"><img src=\"https://colab.research.google.com/assets/colab-badge.svg\" alt=\"Open In Colab\"/></a>"
      ]
    },
    {
      "cell_type": "code",
      "metadata": {
        "id": "W16GBOOHZfZF"
      },
      "source": [
        "import re"
      ],
      "execution_count": 1,
      "outputs": []
    },
    {
      "cell_type": "code",
      "metadata": {
        "colab": {
          "base_uri": "https://localhost:8080/"
        },
        "id": "9ys7OESxZsOk",
        "outputId": "df7146aa-65af-45fd-e523-e3ecdeb9a426"
      },
      "source": [
        "li=[]\n",
        "value = input(\"Enter your value: \")\n",
        "message = value.split()\n",
        "print('VALUE ENTERED:\\n',value)"
      ],
      "execution_count": 2,
      "outputs": [
        {
          "output_type": "stream",
          "name": "stdout",
          "text": [
            "Enter your value: ( x * y ) / 5 = 10 ;\n",
            "VALUE ENTERED:\n",
            " ( x * y ) / 5 = 10 ;\n"
          ]
        }
      ]
    },
    {
      "cell_type": "code",
      "metadata": {
        "id": "3kI0y1pKZuG4"
      },
      "source": [
        "datatypes=['int','float','complex','list','tuple','range','dict','set',\n",
        " 'frozenset','bool','bytes','bytearray','memoryview','str']\n",
        "operators=['+','-','*','/','//','%','**','=','>','<',\"==\",\"!=\",\">=\",\"<=\"]\n",
        "endstatement=[';']\n",
        "integer=[0,1,2,3,4,5,6,7,8,9]"
      ],
      "execution_count": 3,
      "outputs": []
    },
    {
      "cell_type": "code",
      "metadata": {
        "colab": {
          "base_uri": "https://localhost:8080/"
        },
        "id": "PP8XZatgZ2Zr",
        "outputId": "052ebb53-2410-4efc-9be9-70f7b441bbad"
      },
      "source": [
        "for word in message:\n",
        " if word.lower() in datatypes:\n",
        "  li.append(['DATATYPE', word])\n",
        " elif word.lower() in operators:\n",
        "  li.append(['OPERATOR', word])\n",
        " elif word.lower() in endstatement:\n",
        "  li.append(['ENDSTATEMENT', word])\n",
        " elif word.lower() in integer:\n",
        "  li.append(['INTEGER', word])\n",
        " elif re.match(\"[a-z]\", word.lower()):\n",
        "  li.append(['IDENTIFIER', word])\n",
        " else:\n",
        "  li.append(['INTEGER', word])\n",
        "print(li)"
      ],
      "execution_count": 4,
      "outputs": [
        {
          "output_type": "stream",
          "name": "stdout",
          "text": [
            "[['INTEGER', '('], ['IDENTIFIER', 'x'], ['OPERATOR', '*'], ['IDENTIFIER', 'y'], ['INTEGER', ')'], ['OPERATOR', '/'], ['INTEGER', '5'], ['OPERATOR', '='], ['INTEGER', '10'], ['ENDSTATEMENT', ';']]\n"
          ]
        }
      ]
    },
    {
      "cell_type": "code",
      "metadata": {
        "id": "RUPofcJWZ5E9"
      },
      "source": [
        ""
      ],
      "execution_count": 4,
      "outputs": []
    }
  ]
}