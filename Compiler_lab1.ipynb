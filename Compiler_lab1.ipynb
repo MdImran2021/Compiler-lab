{
  "nbformat": 4,
  "nbformat_minor": 0,
  "metadata": {
    "colab": {
      "name": "Compiler lab1.ipynb",
      "provenance": [],
      "collapsed_sections": [],
      "authorship_tag": "ABX9TyMX6pnX/Y6I4ozLLzBpfpF2",
      "include_colab_link": true
    },
    "kernelspec": {
      "name": "python3",
      "display_name": "Python 3"
    },
    "language_info": {
      "name": "python"
    }
  },
  "cells": [
    {
      "cell_type": "markdown",
      "metadata": {
        "id": "view-in-github",
        "colab_type": "text"
      },
      "source": [
        "<a href=\"https://colab.research.google.com/github/MdImran2021/Compiler-lab/blob/main/Compiler_lab1.ipynb\" target=\"_parent\"><img src=\"https://colab.research.google.com/assets/colab-badge.svg\" alt=\"Open In Colab\"/></a>"
      ]
    },
    {
      "cell_type": "code",
      "metadata": {
        "id": "W16GBOOHZfZF"
      },
      "source": [
        "import re"
      ],
      "execution_count": 1,
      "outputs": []
    },
    {
      "cell_type": "code",
      "metadata": {
        "colab": {
          "base_uri": "https://localhost:8080/"
        },
        "id": "9ys7OESxZsOk",
        "outputId": "e8addb9d-3fab-4b8e-957c-f30dd3e3bcfd"
      },
      "source": [
        "li=[]\n",
        "value = input(\"Enter your value: \")\n",
        "message = value\n",
        "print('VALUE ENTERED:\\n',value)"
      ],
      "execution_count": 2,
      "outputs": [
        {
          "output_type": "stream",
          "name": "stdout",
          "text": [
            "Enter your value: int a = 10;\n",
            "VALUE ENTERED:\n",
            " int a = 10;\n"
          ]
        }
      ]
    },
    {
      "cell_type": "code",
      "metadata": {
        "id": "3kI0y1pKZuG4"
      },
      "source": [
        "datatypes=['int','float','complex','list','tuple','range','dict','set',\n",
        " 'frozenset','bool','bytes','bytearray','memoryview','str']\n",
        "operators=['+','-','*','/','//','%','**','=','>','<',\"==\",\"!=\",\">=\",\"<=\"]\n",
        "endstatement=[';']\n",
        "integer=[0,1,2,3,4,5,6,7,8,9]"
      ],
      "execution_count": 3,
      "outputs": []
    },
    {
      "cell_type": "code",
      "metadata": {
        "colab": {
          "base_uri": "https://localhost:8080/"
        },
        "id": "PP8XZatgZ2Zr",
        "outputId": "600a450e-6eee-43f1-c4d4-ac805d252e16"
      },
      "source": [
        "for word in message:\n",
        " if word.lower() in datatypes:\n",
        "  li.append(['DATATYPE', word])\n",
        " elif word.lower() in operators:\n",
        "  li.append(['OPERATOR', word])\n",
        " elif word.lower() in endstatement:\n",
        "  li.append(['ENDSTATEMENT', word])\n",
        " elif word.lower() in integer:\n",
        "  li.append(['INTEGER', word])\n",
        " elif re.match(\"[a-z]\", word.lower()):\n",
        "  li.append(['Character', word])\n",
        " else:\n",
        "  li.append(['Character', word])\n",
        "print(li)"
      ],
      "execution_count": 5,
      "outputs": [
        {
          "output_type": "stream",
          "name": "stdout",
          "text": [
            "[['IDENTIFIER', 'i'], ['IDENTIFIER', 'n'], ['IDENTIFIER', 't'], ['Character', ' '], ['IDENTIFIER', 'a'], ['Character', ' '], ['OPERATOR', '='], ['Character', ' '], ['Character', '1'], ['Character', '0'], ['ENDSTATEMENT', ';'], ['Character', 'i'], ['Character', 'n'], ['Character', 't'], ['Character', ' '], ['Character', 'a'], ['Character', ' '], ['OPERATOR', '='], ['Character', ' '], ['Character', '1'], ['Character', '0'], ['ENDSTATEMENT', ';']]\n"
          ]
        }
      ]
    },
    {
      "cell_type": "code",
      "metadata": {
        "id": "RUPofcJWZ5E9"
      },
      "source": [
        ""
      ],
      "execution_count": null,
      "outputs": []
    }
  ]
}